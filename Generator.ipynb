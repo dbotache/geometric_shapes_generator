{
 "cells": [
  {
   "cell_type": "code",
   "execution_count": 1,
   "id": "62c2f539-3698-44f6-a8fe-dba970515895",
   "metadata": {},
   "outputs": [],
   "source": [
    "%reload_ext autoreload\n",
    "%autoreload 2\n",
    "import os, sys\n",
    "import ipywidgets as widgets\n",
    "\n",
    "sys.path.append('./src')"
   ]
  },
  {
   "cell_type": "code",
   "execution_count": 2,
   "id": "7f4929f7-aeb3-431e-ac09-6663039cc777",
   "metadata": {},
   "outputs": [],
   "source": [
    "from geometric_shapes import GeometricShapes"
   ]
  },
  {
   "cell_type": "code",
   "execution_count": 3,
   "id": "a360dc40-6982-4382-a347-4fb24fc53241",
   "metadata": {},
   "outputs": [],
   "source": [
    "COLOR_LIST = [[0, 254, 0],      # green\n",
    "              [132, 194, 234],  # blue\n",
    "              [254, 0, 0],      # red\n",
    "              # [255, 255, 255] # white\n",
    "              ]"
   ]
  },
  {
   "cell_type": "code",
   "execution_count": 6,
   "id": "3d1e7b32-54dc-43d6-b25a-9b69addd1c0a",
   "metadata": {},
   "outputs": [
    {
     "data": {
      "application/vnd.jupyter.widget-view+json": {
       "model_id": "fc67e2ec213f4cf7abf9337275f8501f",
       "version_major": 2,
       "version_minor": 0
      },
      "text/plain": [
       "VBox(children=(Text(value='output', description='Destination:'), Text(value='5', description='Size:'), Button(…"
      ]
     },
     "metadata": {},
     "output_type": "display_data"
    }
   ],
   "source": [
    "# Ipywidgets-based interface\n",
    "\n",
    "def generate_shapes_widget(destination, size):\n",
    "    generator = GeometricShapes(destination=destination, size=size, dim_x=1000, dim_y=1300, shape_size=500, color_list=COLOR_LIST)\n",
    "    generator.generate()\n",
    "\n",
    "# User interface\n",
    "destination_widget = widgets.Text(value='output', description='Destination:')\n",
    "size_widget = widgets.Text(value='5', description='Size:')\n",
    "generate_button = widgets.Button(description=\"Generate\")\n",
    "\n",
    "def on_generate_button_clicked(b):\n",
    "    generate_shapes_widget(destination_widget.value, int(size_widget.value))\n",
    "    \n",
    "generate_button.on_click(on_generate_button_clicked)\n",
    "\n",
    "# Display the widgets\n",
    "widgets.VBox([destination_widget, size_widget, generate_button])"
   ]
  },
  {
   "cell_type": "code",
   "execution_count": null,
   "id": "12807165-0d10-4444-a33b-09f3379d3440",
   "metadata": {},
   "outputs": [],
   "source": []
  }
 ],
 "metadata": {
  "kernelspec": {
   "display_name": "Python 3 (ipykernel)",
   "language": "python",
   "name": "python3"
  },
  "language_info": {
   "codemirror_mode": {
    "name": "ipython",
    "version": 3
   },
   "file_extension": ".py",
   "mimetype": "text/x-python",
   "name": "python",
   "nbconvert_exporter": "python",
   "pygments_lexer": "ipython3",
   "version": "3.9.13"
  }
 },
 "nbformat": 4,
 "nbformat_minor": 5
}
